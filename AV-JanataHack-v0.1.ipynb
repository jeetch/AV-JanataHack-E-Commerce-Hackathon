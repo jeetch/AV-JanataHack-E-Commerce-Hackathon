{
 "cells": [
  {
   "cell_type": "code",
   "execution_count": 180,
   "metadata": {},
   "outputs": [],
   "source": [
    "import pandas as pd\n",
    "import numpy as np\n",
    "import seaborn as sns\n",
    "import matplotlib.pyplot as plt\n",
    "%matplotlib inline"
   ]
  },
  {
   "cell_type": "code",
   "execution_count": 181,
   "metadata": {},
   "outputs": [],
   "source": [
    "test = pd.read_csv('test.csv')\n",
    "train = pd.read_csv('train.csv')"
   ]
  },
  {
   "cell_type": "code",
   "execution_count": 182,
   "metadata": {},
   "outputs": [
    {
     "data": {
      "text/html": [
       "<div>\n",
       "<style scoped>\n",
       "    .dataframe tbody tr th:only-of-type {\n",
       "        vertical-align: middle;\n",
       "    }\n",
       "\n",
       "    .dataframe tbody tr th {\n",
       "        vertical-align: top;\n",
       "    }\n",
       "\n",
       "    .dataframe thead th {\n",
       "        text-align: right;\n",
       "    }\n",
       "</style>\n",
       "<table border=\"1\" class=\"dataframe\">\n",
       "  <thead>\n",
       "    <tr style=\"text-align: right;\">\n",
       "      <th></th>\n",
       "      <th>session_id</th>\n",
       "      <th>startTime</th>\n",
       "      <th>endTime</th>\n",
       "      <th>ProductList</th>\n",
       "    </tr>\n",
       "  </thead>\n",
       "  <tbody>\n",
       "    <tr>\n",
       "      <th>0</th>\n",
       "      <td>u12112</td>\n",
       "      <td>08/12/14 13:36</td>\n",
       "      <td>08/12/14 13:36</td>\n",
       "      <td>A00002/B00003/C00006/D19956/</td>\n",
       "    </tr>\n",
       "    <tr>\n",
       "      <th>1</th>\n",
       "      <td>u19725</td>\n",
       "      <td>19/12/14 13:52</td>\n",
       "      <td>19/12/14 13:52</td>\n",
       "      <td>A00002/B00005/C00067/D02026/</td>\n",
       "    </tr>\n",
       "    <tr>\n",
       "      <th>2</th>\n",
       "      <td>u11795</td>\n",
       "      <td>01/12/14 10:44</td>\n",
       "      <td>01/12/14 10:44</td>\n",
       "      <td>A00002/B00002/C00004/D12538/</td>\n",
       "    </tr>\n",
       "    <tr>\n",
       "      <th>3</th>\n",
       "      <td>u22639</td>\n",
       "      <td>08/12/14 20:19</td>\n",
       "      <td>08/12/14 20:22</td>\n",
       "      <td>A00002/B00003/C00079/D22781/;A00002/B00003/C00...</td>\n",
       "    </tr>\n",
       "    <tr>\n",
       "      <th>4</th>\n",
       "      <td>u18034</td>\n",
       "      <td>15/12/14 19:33</td>\n",
       "      <td>15/12/14 19:33</td>\n",
       "      <td>A00002/B00001/C00010/D23419/</td>\n",
       "    </tr>\n",
       "  </tbody>\n",
       "</table>\n",
       "</div>"
      ],
      "text/plain": [
       "  session_id       startTime         endTime  \\\n",
       "0     u12112  08/12/14 13:36  08/12/14 13:36   \n",
       "1     u19725  19/12/14 13:52  19/12/14 13:52   \n",
       "2     u11795  01/12/14 10:44  01/12/14 10:44   \n",
       "3     u22639  08/12/14 20:19  08/12/14 20:22   \n",
       "4     u18034  15/12/14 19:33  15/12/14 19:33   \n",
       "\n",
       "                                         ProductList  \n",
       "0                       A00002/B00003/C00006/D19956/  \n",
       "1                       A00002/B00005/C00067/D02026/  \n",
       "2                       A00002/B00002/C00004/D12538/  \n",
       "3  A00002/B00003/C00079/D22781/;A00002/B00003/C00...  \n",
       "4                       A00002/B00001/C00010/D23419/  "
      ]
     },
     "execution_count": 182,
     "metadata": {},
     "output_type": "execute_result"
    }
   ],
   "source": [
    "test.head()"
   ]
  },
  {
   "cell_type": "code",
   "execution_count": 183,
   "metadata": {},
   "outputs": [
    {
     "data": {
      "text/plain": [
       "(10500, 5)"
      ]
     },
     "execution_count": 183,
     "metadata": {},
     "output_type": "execute_result"
    }
   ],
   "source": [
    "train.shape"
   ]
  },
  {
   "cell_type": "markdown",
   "metadata": {},
   "source": [
    "It seems there is lot of information hidden in the ProductList variable. We need to extract as much information as possible. Here are the new features I can think which we can come up from this data :\n",
    "    - Time spent in a session\n",
    "    - category, sub-category, sub-sub category and the product\n",
    "    - number of products browsed per session\n",
    "    - number of categories browsed per session"
   ]
  },
  {
   "cell_type": "code",
   "execution_count": 184,
   "metadata": {},
   "outputs": [
    {
     "data": {
      "text/plain": [
       "session_id     10500\n",
       "startTime       8815\n",
       "endTime         8803\n",
       "ProductList     9402\n",
       "gender             2\n",
       "dtype: int64"
      ]
     },
     "execution_count": 184,
     "metadata": {},
     "output_type": "execute_result"
    }
   ],
   "source": [
    "train.nunique()"
   ]
  },
  {
   "cell_type": "code",
   "execution_count": 185,
   "metadata": {},
   "outputs": [
    {
     "data": {
      "image/png": "[encoded data removed]",
      "text/plain": [
       "<Figure size 432x288 with 2 Axes>"
      ]
     },
     "metadata": {
      "needs_background": "light"
     },
     "output_type": "display_data"
    }
   ],
   "source": [
    "sns.heatmap(train.isnull())\n",
    "plt.show()"
   ]
  },
  {
   "cell_type": "markdown",
   "metadata": {},
   "source": [
    "Awesome! No missing data :)"
   ]
  },
  {
   "cell_type": "code",
   "execution_count": 186,
   "metadata": {},
   "outputs": [],
   "source": [
    "df=train.append(test,ignore_index=True)\n",
    "df['n_product']  = df['ProductList'].apply(lambda s : s.count(';')+1)"
   ]
  },
  {
   "cell_type": "code",
   "execution_count": 187,
   "metadata": {},
   "outputs": [
    {
     "data": {
      "text/plain": [
       "array([ 4,  7,  1,  3,  2,  6, 14,  5,  9, 11, 10, 27, 19,  8, 13, 15, 12,\n",
       "       24, 29, 17, 25, 16, 36, 18, 20, 30, 21, 22, 35, 43, 23, 31, 28])"
      ]
     },
     "execution_count": 187,
     "metadata": {},
     "output_type": "execute_result"
    }
   ],
   "source": [
    "df['n_product'].unique()"
   ]
  },
  {
   "cell_type": "code",
   "execution_count": 188,
   "metadata": {},
   "outputs": [
    {
     "data": {
      "text/plain": [
       "<matplotlib.axes._subplots.AxesSubplot at 0x7f73aba08828>"
      ]
     },
     "execution_count": 188,
     "metadata": {},
     "output_type": "execute_result"
    },
    {
     "data": {
      "image/png": "[encoded data removed]",
      "text/plain": [
       "<Figure size 432x288 with 1 Axes>"
      ]
     },
     "metadata": {
      "needs_background": "light"
     },
     "output_type": "display_data"
    }
   ],
   "source": [
    "sns.countplot(df['n_product'])"
   ]
  },
  {
   "cell_type": "code",
   "execution_count": 189,
   "metadata": {},
   "outputs": [],
   "source": [
    "new = df['ProductList'].str.split(\";\",expand = True)\n",
    "new.fillna(value=0, inplace=True)"
   ]
  },
  {
   "cell_type": "code",
   "execution_count": 190,
   "metadata": {},
   "outputs": [
    {
     "data": {
      "text/html": [
       "<div>\n",
       "<style scoped>\n",
       "    .dataframe tbody tr th:only-of-type {\n",
       "        vertical-align: middle;\n",
       "    }\n",
       "\n",
       "    .dataframe tbody tr th {\n",
       "        vertical-align: top;\n",
       "    }\n",
       "\n",
       "    .dataframe thead th {\n",
       "        text-align: right;\n",
       "    }\n",
       "</style>\n",
       "<table border=\"1\" class=\"dataframe\">\n",
       "  <thead>\n",
       "    <tr style=\"text-align: right;\">\n",
       "      <th></th>\n",
       "      <th>0</th>\n",
       "      <th>1</th>\n",
       "      <th>2</th>\n",
       "      <th>3</th>\n",
       "      <th>4</th>\n",
       "      <th>5</th>\n",
       "      <th>6</th>\n",
       "      <th>7</th>\n",
       "      <th>8</th>\n",
       "      <th>9</th>\n",
       "      <th>...</th>\n",
       "      <th>33</th>\n",
       "      <th>34</th>\n",
       "      <th>35</th>\n",
       "      <th>36</th>\n",
       "      <th>37</th>\n",
       "      <th>38</th>\n",
       "      <th>39</th>\n",
       "      <th>40</th>\n",
       "      <th>41</th>\n",
       "      <th>42</th>\n",
       "    </tr>\n",
       "  </thead>\n",
       "  <tbody>\n",
       "    <tr>\n",
       "      <th>0</th>\n",
       "      <td>A00002/B00003/C00006/D28435/</td>\n",
       "      <td>A00002/B00003/C00006/D02554/</td>\n",
       "      <td>A00002/B00003/C00006/D28436/</td>\n",
       "      <td>A00002/B00003/C00006/D28437/</td>\n",
       "      <td>0</td>\n",
       "      <td>0</td>\n",
       "      <td>0</td>\n",
       "      <td>0</td>\n",
       "      <td>0</td>\n",
       "      <td>0</td>\n",
       "      <td>...</td>\n",
       "      <td>0</td>\n",
       "      <td>0</td>\n",
       "      <td>0</td>\n",
       "      <td>0</td>\n",
       "      <td>0</td>\n",
       "      <td>0</td>\n",
       "      <td>0</td>\n",
       "      <td>0</td>\n",
       "      <td>0</td>\n",
       "      <td>0</td>\n",
       "    </tr>\n",
       "    <tr>\n",
       "      <th>1</th>\n",
       "      <td>A00001/B00009/C00031/D29404/</td>\n",
       "      <td>A00001/B00009/C00031/D02617/</td>\n",
       "      <td>A00001/B00009/C00031/D29407/</td>\n",
       "      <td>A00001/B00009/C00031/D29410/</td>\n",
       "      <td>A00001/B00009/C00031/D29411/</td>\n",
       "      <td>A00001/B00009/C00031/D25444/</td>\n",
       "      <td>A00001/B00009/C00031/D29418/</td>\n",
       "      <td>0</td>\n",
       "      <td>0</td>\n",
       "      <td>0</td>\n",
       "      <td>...</td>\n",
       "      <td>0</td>\n",
       "      <td>0</td>\n",
       "      <td>0</td>\n",
       "      <td>0</td>\n",
       "      <td>0</td>\n",
       "      <td>0</td>\n",
       "      <td>0</td>\n",
       "      <td>0</td>\n",
       "      <td>0</td>\n",
       "      <td>0</td>\n",
       "    </tr>\n",
       "    <tr>\n",
       "      <th>2</th>\n",
       "      <td>A00002/B00001/C00020/D16944/</td>\n",
       "      <td>0</td>\n",
       "      <td>0</td>\n",
       "      <td>0</td>\n",
       "      <td>0</td>\n",
       "      <td>0</td>\n",
       "      <td>0</td>\n",
       "      <td>0</td>\n",
       "      <td>0</td>\n",
       "      <td>0</td>\n",
       "      <td>...</td>\n",
       "      <td>0</td>\n",
       "      <td>0</td>\n",
       "      <td>0</td>\n",
       "      <td>0</td>\n",
       "      <td>0</td>\n",
       "      <td>0</td>\n",
       "      <td>0</td>\n",
       "      <td>0</td>\n",
       "      <td>0</td>\n",
       "      <td>0</td>\n",
       "    </tr>\n",
       "    <tr>\n",
       "      <th>3</th>\n",
       "      <td>A00002/B00004/C00018/D10284/</td>\n",
       "      <td>A00002/B00004/C00018/D10285/</td>\n",
       "      <td>A00002/B00004/C00018/D10286/</td>\n",
       "      <td>0</td>\n",
       "      <td>0</td>\n",
       "      <td>0</td>\n",
       "      <td>0</td>\n",
       "      <td>0</td>\n",
       "      <td>0</td>\n",
       "      <td>0</td>\n",
       "      <td>...</td>\n",
       "      <td>0</td>\n",
       "      <td>0</td>\n",
       "      <td>0</td>\n",
       "      <td>0</td>\n",
       "      <td>0</td>\n",
       "      <td>0</td>\n",
       "      <td>0</td>\n",
       "      <td>0</td>\n",
       "      <td>0</td>\n",
       "      <td>0</td>\n",
       "    </tr>\n",
       "    <tr>\n",
       "      <th>4</th>\n",
       "      <td>A00001/B00001/C00012/D30805/</td>\n",
       "      <td>A00001/B00001/C00012/D30806/</td>\n",
       "      <td>0</td>\n",
       "      <td>0</td>\n",
       "      <td>0</td>\n",
       "      <td>0</td>\n",
       "      <td>0</td>\n",
       "      <td>0</td>\n",
       "      <td>0</td>\n",
       "      <td>0</td>\n",
       "      <td>...</td>\n",
       "      <td>0</td>\n",
       "      <td>0</td>\n",
       "      <td>0</td>\n",
       "      <td>0</td>\n",
       "      <td>0</td>\n",
       "      <td>0</td>\n",
       "      <td>0</td>\n",
       "      <td>0</td>\n",
       "      <td>0</td>\n",
       "      <td>0</td>\n",
       "    </tr>\n",
       "    <tr>\n",
       "      <th>5</th>\n",
       "      <td>A00002/B00002/C00081/D25039/</td>\n",
       "      <td>0</td>\n",
       "      <td>0</td>\n",
       "      <td>0</td>\n",
       "      <td>0</td>\n",
       "      <td>0</td>\n",
       "      <td>0</td>\n",
       "      <td>0</td>\n",
       "      <td>0</td>\n",
       "      <td>0</td>\n",
       "      <td>...</td>\n",
       "      <td>0</td>\n",
       "      <td>0</td>\n",
       "      <td>0</td>\n",
       "      <td>0</td>\n",
       "      <td>0</td>\n",
       "      <td>0</td>\n",
       "      <td>0</td>\n",
       "      <td>0</td>\n",
       "      <td>0</td>\n",
       "      <td>0</td>\n",
       "    </tr>\n",
       "    <tr>\n",
       "      <th>6</th>\n",
       "      <td>A00002/B00011/C00180/D18487/</td>\n",
       "      <td>A00002/B00011/C00114/D18459/</td>\n",
       "      <td>0</td>\n",
       "      <td>0</td>\n",
       "      <td>0</td>\n",
       "      <td>0</td>\n",
       "      <td>0</td>\n",
       "      <td>0</td>\n",
       "      <td>0</td>\n",
       "      <td>0</td>\n",
       "      <td>...</td>\n",
       "      <td>0</td>\n",
       "      <td>0</td>\n",
       "      <td>0</td>\n",
       "      <td>0</td>\n",
       "      <td>0</td>\n",
       "      <td>0</td>\n",
       "      <td>0</td>\n",
       "      <td>0</td>\n",
       "      <td>0</td>\n",
       "      <td>0</td>\n",
       "    </tr>\n",
       "    <tr>\n",
       "      <th>7</th>\n",
       "      <td>A00002/B00001/C00059/D15254/</td>\n",
       "      <td>A00002/B00001/C00059/D00900/</td>\n",
       "      <td>A00002/B00002/C00002/D02063/</td>\n",
       "      <td>0</td>\n",
       "      <td>0</td>\n",
       "      <td>0</td>\n",
       "      <td>0</td>\n",
       "      <td>0</td>\n",
       "      <td>0</td>\n",
       "      <td>0</td>\n",
       "      <td>...</td>\n",
       "      <td>0</td>\n",
       "      <td>0</td>\n",
       "      <td>0</td>\n",
       "      <td>0</td>\n",
       "      <td>0</td>\n",
       "      <td>0</td>\n",
       "      <td>0</td>\n",
       "      <td>0</td>\n",
       "      <td>0</td>\n",
       "      <td>0</td>\n",
       "    </tr>\n",
       "    <tr>\n",
       "      <th>8</th>\n",
       "      <td>A00002/B00001/C00010/D06129/</td>\n",
       "      <td>0</td>\n",
       "      <td>0</td>\n",
       "      <td>0</td>\n",
       "      <td>0</td>\n",
       "      <td>0</td>\n",
       "      <td>0</td>\n",
       "      <td>0</td>\n",
       "      <td>0</td>\n",
       "      <td>0</td>\n",
       "      <td>...</td>\n",
       "      <td>0</td>\n",
       "      <td>0</td>\n",
       "      <td>0</td>\n",
       "      <td>0</td>\n",
       "      <td>0</td>\n",
       "      <td>0</td>\n",
       "      <td>0</td>\n",
       "      <td>0</td>\n",
       "      <td>0</td>\n",
       "      <td>0</td>\n",
       "    </tr>\n",
       "    <tr>\n",
       "      <th>9</th>\n",
       "      <td>A00002/B00001/C00010/D12841/</td>\n",
       "      <td>A00002/B00002/C00112/D20047/</td>\n",
       "      <td>0</td>\n",
       "      <td>0</td>\n",
       "      <td>0</td>\n",
       "      <td>0</td>\n",
       "      <td>0</td>\n",
       "      <td>0</td>\n",
       "      <td>0</td>\n",
       "      <td>0</td>\n",
       "      <td>...</td>\n",
       "      <td>0</td>\n",
       "      <td>0</td>\n",
       "      <td>0</td>\n",
       "      <td>0</td>\n",
       "      <td>0</td>\n",
       "      <td>0</td>\n",
       "      <td>0</td>\n",
       "      <td>0</td>\n",
       "      <td>0</td>\n",
       "      <td>0</td>\n",
       "    </tr>\n",
       "    <tr>\n",
       "      <th>10</th>\n",
       "      <td>A00002/B00007/C00024/D02625/</td>\n",
       "      <td>0</td>\n",
       "      <td>0</td>\n",
       "      <td>0</td>\n",
       "      <td>0</td>\n",
       "      <td>0</td>\n",
       "      <td>0</td>\n",
       "      <td>0</td>\n",
       "      <td>0</td>\n",
       "      <td>0</td>\n",
       "      <td>...</td>\n",
       "      <td>0</td>\n",
       "      <td>0</td>\n",
       "      <td>0</td>\n",
       "      <td>0</td>\n",
       "      <td>0</td>\n",
       "      <td>0</td>\n",
       "      <td>0</td>\n",
       "      <td>0</td>\n",
       "      <td>0</td>\n",
       "      <td>0</td>\n",
       "    </tr>\n",
       "    <tr>\n",
       "      <th>11</th>\n",
       "      <td>A00002/B00002/C00002/D22971/</td>\n",
       "      <td>0</td>\n",
       "      <td>0</td>\n",
       "      <td>0</td>\n",
       "      <td>0</td>\n",
       "      <td>0</td>\n",
       "      <td>0</td>\n",
       "      <td>0</td>\n",
       "      <td>0</td>\n",
       "      <td>0</td>\n",
       "      <td>...</td>\n",
       "      <td>0</td>\n",
       "      <td>0</td>\n",
       "      <td>0</td>\n",
       "      <td>0</td>\n",
       "      <td>0</td>\n",
       "      <td>0</td>\n",
       "      <td>0</td>\n",
       "      <td>0</td>\n",
       "      <td>0</td>\n",
       "      <td>0</td>\n",
       "    </tr>\n",
       "    <tr>\n",
       "      <th>12</th>\n",
       "      <td>A00002/B00001/C00150/D35471/</td>\n",
       "      <td>A00002/B00001/C00049/D33572/</td>\n",
       "      <td>A00002/B00001/C00150/D35478/</td>\n",
       "      <td>A00002/B00001/C00177/D02157/</td>\n",
       "      <td>A00002/B00001/C00177/D03547/</td>\n",
       "      <td>A00002/B00001/C00150/D35483/</td>\n",
       "      <td>0</td>\n",
       "      <td>0</td>\n",
       "      <td>0</td>\n",
       "      <td>0</td>\n",
       "      <td>...</td>\n",
       "      <td>0</td>\n",
       "      <td>0</td>\n",
       "      <td>0</td>\n",
       "      <td>0</td>\n",
       "      <td>0</td>\n",
       "      <td>0</td>\n",
       "      <td>0</td>\n",
       "      <td>0</td>\n",
       "      <td>0</td>\n",
       "      <td>0</td>\n",
       "    </tr>\n",
       "    <tr>\n",
       "      <th>13</th>\n",
       "      <td>A00001/B00031/C00044/D01652/</td>\n",
       "      <td>A00001/B00031/C00044/D01867/</td>\n",
       "      <td>0</td>\n",
       "      <td>0</td>\n",
       "      <td>0</td>\n",
       "      <td>0</td>\n",
       "      <td>0</td>\n",
       "      <td>0</td>\n",
       "      <td>0</td>\n",
       "      <td>0</td>\n",
       "      <td>...</td>\n",
       "      <td>0</td>\n",
       "      <td>0</td>\n",
       "      <td>0</td>\n",
       "      <td>0</td>\n",
       "      <td>0</td>\n",
       "      <td>0</td>\n",
       "      <td>0</td>\n",
       "      <td>0</td>\n",
       "      <td>0</td>\n",
       "      <td>0</td>\n",
       "    </tr>\n",
       "    <tr>\n",
       "      <th>14</th>\n",
       "      <td>A00002/B00002/C00002/D21686/</td>\n",
       "      <td>A00002/B00002/C00007/D02584/</td>\n",
       "      <td>0</td>\n",
       "      <td>0</td>\n",
       "      <td>0</td>\n",
       "      <td>0</td>\n",
       "      <td>0</td>\n",
       "      <td>0</td>\n",
       "      <td>0</td>\n",
       "      <td>0</td>\n",
       "      <td>...</td>\n",
       "      <td>0</td>\n",
       "      <td>0</td>\n",
       "      <td>0</td>\n",
       "      <td>0</td>\n",
       "      <td>0</td>\n",
       "      <td>0</td>\n",
       "      <td>0</td>\n",
       "      <td>0</td>\n",
       "      <td>0</td>\n",
       "      <td>0</td>\n",
       "    </tr>\n",
       "  </tbody>\n",
       "</table>\n",
       "<p>15 rows × 43 columns</p>\n",
       "</div>"
      ],
      "text/plain": [
       "                              0                             1   \\\n",
       "0   A00002/B00003/C00006/D28435/  A00002/B00003/C00006/D02554/   \n",
       "1   A00001/B00009/C00031/D29404/  A00001/B00009/C00031/D02617/   \n",
       "2   A00002/B00001/C00020/D16944/                             0   \n",
       "3   A00002/B00004/C00018/D10284/  A00002/B00004/C00018/D10285/   \n",
       "4   A00001/B00001/C00012/D30805/  A00001/B00001/C00012/D30806/   \n",
       "5   A00002/B00002/C00081/D25039/                             0   \n",
       "6   A00002/B00011/C00180/D18487/  A00002/B00011/C00114/D18459/   \n",
       "7   A00002/B00001/C00059/D15254/  A00002/B00001/C00059/D00900/   \n",
       "8   A00002/B00001/C00010/D06129/                             0   \n",
       "9   A00002/B00001/C00010/D12841/  A00002/B00002/C00112/D20047/   \n",
       "10  A00002/B00007/C00024/D02625/                             0   \n",
       "11  A00002/B00002/C00002/D22971/                             0   \n",
       "12  A00002/B00001/C00150/D35471/  A00002/B00001/C00049/D33572/   \n",
       "13  A00001/B00031/C00044/D01652/  A00001/B00031/C00044/D01867/   \n",
       "14  A00002/B00002/C00002/D21686/  A00002/B00002/C00007/D02584/   \n",
       "\n",
       "                              2                             3   \\\n",
       "0   A00002/B00003/C00006/D28436/  A00002/B00003/C00006/D28437/   \n",
       "1   A00001/B00009/C00031/D29407/  A00001/B00009/C00031/D29410/   \n",
       "2                              0                             0   \n",
       "3   A00002/B00004/C00018/D10286/                             0   \n",
       "4                              0                             0   \n",
       "5                              0                             0   \n",
       "6                              0                             0   \n",
       "7   A00002/B00002/C00002/D02063/                             0   \n",
       "8                              0                             0   \n",
       "9                              0                             0   \n",
       "10                             0                             0   \n",
       "11                             0                             0   \n",
       "12  A00002/B00001/C00150/D35478/  A00002/B00001/C00177/D02157/   \n",
       "13                             0                             0   \n",
       "14                             0                             0   \n",
       "\n",
       "                              4                             5   \\\n",
       "0                              0                             0   \n",
       "1   A00001/B00009/C00031/D29411/  A00001/B00009/C00031/D25444/   \n",
       "2                              0                             0   \n",
       "3                              0                             0   \n",
       "4                              0                             0   \n",
       "5                              0                             0   \n",
       "6                              0                             0   \n",
       "7                              0                             0   \n",
       "8                              0                             0   \n",
       "9                              0                             0   \n",
       "10                             0                             0   \n",
       "11                             0                             0   \n",
       "12  A00002/B00001/C00177/D03547/  A00002/B00001/C00150/D35483/   \n",
       "13                             0                             0   \n",
       "14                             0                             0   \n",
       "\n",
       "                              6  7  8  9   ... 33 34 35 36 37 38 39 40 41 42  \n",
       "0                              0  0  0  0  ...  0  0  0  0  0  0  0  0  0  0  \n",
       "1   A00001/B00009/C00031/D29418/  0  0  0  ...  0  0  0  0  0  0  0  0  0  0  \n",
       "2                              0  0  0  0  ...  0  0  0  0  0  0  0  0  0  0  \n",
       "3                              0  0  0  0  ...  0  0  0  0  0  0  0  0  0  0  \n",
       "4                              0  0  0  0  ...  0  0  0  0  0  0  0  0  0  0  \n",
       "5                              0  0  0  0  ...  0  0  0  0  0  0  0  0  0  0  \n",
       "6                              0  0  0  0  ...  0  0  0  0  0  0  0  0  0  0  \n",
       "7                              0  0  0  0  ...  0  0  0  0  0  0  0  0  0  0  \n",
       "8                              0  0  0  0  ...  0  0  0  0  0  0  0  0  0  0  \n",
       "9                              0  0  0  0  ...  0  0  0  0  0  0  0  0  0  0  \n",
       "10                             0  0  0  0  ...  0  0  0  0  0  0  0  0  0  0  \n",
       "11                             0  0  0  0  ...  0  0  0  0  0  0  0  0  0  0  \n",
       "12                             0  0  0  0  ...  0  0  0  0  0  0  0  0  0  0  \n",
       "13                             0  0  0  0  ...  0  0  0  0  0  0  0  0  0  0  \n",
       "14                             0  0  0  0  ...  0  0  0  0  0  0  0  0  0  0  \n",
       "\n",
       "[15 rows x 43 columns]"
      ]
     },
     "execution_count": 190,
     "metadata": {},
     "output_type": "execute_result"
    }
   ],
   "source": [
    "new.head(15)"
   ]
  },
  {
   "cell_type": "code",
   "execution_count": 191,
   "metadata": {},
   "outputs": [],
   "source": [
    "new1 = new[0].str.split(\"/\",expand=True)"
   ]
  },
  {
   "cell_type": "code",
   "execution_count": 192,
   "metadata": {},
   "outputs": [],
   "source": [
    "new1.drop(labels = 4, axis = 1, inplace = True)"
   ]
  },
  {
   "cell_type": "code",
   "execution_count": 193,
   "metadata": {},
   "outputs": [],
   "source": [
    "new1= new1.rename(columns={0: \"cat\", 1:\"scat\",2:\"sscat\", 3:\"prod\"})"
   ]
  },
  {
   "cell_type": "code",
   "execution_count": 194,
   "metadata": {},
   "outputs": [],
   "source": [
    "df1 = pd.concat([df,new1],axis=1)"
   ]
  },
  {
   "cell_type": "code",
   "execution_count": 195,
   "metadata": {},
   "outputs": [
    {
     "data": {
      "text/html": [
       "<div>\n",
       "<style scoped>\n",
       "    .dataframe tbody tr th:only-of-type {\n",
       "        vertical-align: middle;\n",
       "    }\n",
       "\n",
       "    .dataframe tbody tr th {\n",
       "        vertical-align: top;\n",
       "    }\n",
       "\n",
       "    .dataframe thead th {\n",
       "        text-align: right;\n",
       "    }\n",
       "</style>\n",
       "<table border=\"1\" class=\"dataframe\">\n",
       "  <thead>\n",
       "    <tr style=\"text-align: right;\">\n",
       "      <th></th>\n",
       "      <th>session_id</th>\n",
       "      <th>startTime</th>\n",
       "      <th>endTime</th>\n",
       "      <th>ProductList</th>\n",
       "      <th>gender</th>\n",
       "      <th>n_product</th>\n",
       "      <th>cat</th>\n",
       "      <th>scat</th>\n",
       "      <th>sscat</th>\n",
       "      <th>prod</th>\n",
       "    </tr>\n",
       "  </thead>\n",
       "  <tbody>\n",
       "    <tr>\n",
       "      <th>0</th>\n",
       "      <td>u16159</td>\n",
       "      <td>15/12/14 18:11</td>\n",
       "      <td>15/12/14 18:12</td>\n",
       "      <td>A00002/B00003/C00006/D28435/;A00002/B00003/C00...</td>\n",
       "      <td>female</td>\n",
       "      <td>4</td>\n",
       "      <td>A00002</td>\n",
       "      <td>B00003</td>\n",
       "      <td>C00006</td>\n",
       "      <td>D28435</td>\n",
       "    </tr>\n",
       "    <tr>\n",
       "      <th>1</th>\n",
       "      <td>u10253</td>\n",
       "      <td>16/12/14 14:35</td>\n",
       "      <td>16/12/14 14:41</td>\n",
       "      <td>A00001/B00009/C00031/D29404/;A00001/B00009/C00...</td>\n",
       "      <td>male</td>\n",
       "      <td>7</td>\n",
       "      <td>A00001</td>\n",
       "      <td>B00009</td>\n",
       "      <td>C00031</td>\n",
       "      <td>D29404</td>\n",
       "    </tr>\n",
       "    <tr>\n",
       "      <th>2</th>\n",
       "      <td>u19037</td>\n",
       "      <td>01/12/14 15:58</td>\n",
       "      <td>01/12/14 15:58</td>\n",
       "      <td>A00002/B00001/C00020/D16944/</td>\n",
       "      <td>female</td>\n",
       "      <td>1</td>\n",
       "      <td>A00002</td>\n",
       "      <td>B00001</td>\n",
       "      <td>C00020</td>\n",
       "      <td>D16944</td>\n",
       "    </tr>\n",
       "    <tr>\n",
       "      <th>3</th>\n",
       "      <td>u14556</td>\n",
       "      <td>23/11/14 2:57</td>\n",
       "      <td>23/11/14 3:00</td>\n",
       "      <td>A00002/B00004/C00018/D10284/;A00002/B00004/C00...</td>\n",
       "      <td>female</td>\n",
       "      <td>3</td>\n",
       "      <td>A00002</td>\n",
       "      <td>B00004</td>\n",
       "      <td>C00018</td>\n",
       "      <td>D10284</td>\n",
       "    </tr>\n",
       "    <tr>\n",
       "      <th>4</th>\n",
       "      <td>u24295</td>\n",
       "      <td>17/12/14 16:44</td>\n",
       "      <td>17/12/14 16:46</td>\n",
       "      <td>A00001/B00001/C00012/D30805/;A00001/B00001/C00...</td>\n",
       "      <td>male</td>\n",
       "      <td>2</td>\n",
       "      <td>A00001</td>\n",
       "      <td>B00001</td>\n",
       "      <td>C00012</td>\n",
       "      <td>D30805</td>\n",
       "    </tr>\n",
       "    <tr>\n",
       "      <th>...</th>\n",
       "      <td>...</td>\n",
       "      <td>...</td>\n",
       "      <td>...</td>\n",
       "      <td>...</td>\n",
       "      <td>...</td>\n",
       "      <td>...</td>\n",
       "      <td>...</td>\n",
       "      <td>...</td>\n",
       "      <td>...</td>\n",
       "      <td>...</td>\n",
       "    </tr>\n",
       "    <tr>\n",
       "      <th>14995</th>\n",
       "      <td>u23966</td>\n",
       "      <td>15/12/14 21:11</td>\n",
       "      <td>15/12/14 21:12</td>\n",
       "      <td>A00001/B00031/C00044/D03435/;A00001/B00031/C00...</td>\n",
       "      <td>NaN</td>\n",
       "      <td>3</td>\n",
       "      <td>A00001</td>\n",
       "      <td>B00031</td>\n",
       "      <td>C00044</td>\n",
       "      <td>D03435</td>\n",
       "    </tr>\n",
       "    <tr>\n",
       "      <th>14996</th>\n",
       "      <td>u20527</td>\n",
       "      <td>02/12/14 7:53</td>\n",
       "      <td>02/12/14 7:54</td>\n",
       "      <td>A00002/B00002/C00004/D17474/;A00002/B00002/C00...</td>\n",
       "      <td>NaN</td>\n",
       "      <td>2</td>\n",
       "      <td>A00002</td>\n",
       "      <td>B00002</td>\n",
       "      <td>C00004</td>\n",
       "      <td>D17474</td>\n",
       "    </tr>\n",
       "    <tr>\n",
       "      <th>14997</th>\n",
       "      <td>u13253</td>\n",
       "      <td>15/11/14 21:38</td>\n",
       "      <td>15/11/14 21:46</td>\n",
       "      <td>A00002/B00007/C00098/D03350/;A00002/B00007/C00...</td>\n",
       "      <td>NaN</td>\n",
       "      <td>9</td>\n",
       "      <td>A00002</td>\n",
       "      <td>B00007</td>\n",
       "      <td>C00098</td>\n",
       "      <td>D03350</td>\n",
       "    </tr>\n",
       "    <tr>\n",
       "      <th>14998</th>\n",
       "      <td>u17094</td>\n",
       "      <td>17/12/14 8:51</td>\n",
       "      <td>17/12/14 8:51</td>\n",
       "      <td>A00001/B00031/C00044/D09604/</td>\n",
       "      <td>NaN</td>\n",
       "      <td>1</td>\n",
       "      <td>A00001</td>\n",
       "      <td>B00031</td>\n",
       "      <td>C00044</td>\n",
       "      <td>D09604</td>\n",
       "    </tr>\n",
       "    <tr>\n",
       "      <th>14999</th>\n",
       "      <td>u24310</td>\n",
       "      <td>17/12/14 17:25</td>\n",
       "      <td>17/12/14 17:26</td>\n",
       "      <td>A00002/B00002/C00003/D20004/;A00002/B00002/C00...</td>\n",
       "      <td>NaN</td>\n",
       "      <td>2</td>\n",
       "      <td>A00002</td>\n",
       "      <td>B00002</td>\n",
       "      <td>C00003</td>\n",
       "      <td>D20004</td>\n",
       "    </tr>\n",
       "  </tbody>\n",
       "</table>\n",
       "<p>15000 rows × 10 columns</p>\n",
       "</div>"
      ],
      "text/plain": [
       "      session_id       startTime         endTime  \\\n",
       "0         u16159  15/12/14 18:11  15/12/14 18:12   \n",
       "1         u10253  16/12/14 14:35  16/12/14 14:41   \n",
       "2         u19037  01/12/14 15:58  01/12/14 15:58   \n",
       "3         u14556   23/11/14 2:57   23/11/14 3:00   \n",
       "4         u24295  17/12/14 16:44  17/12/14 16:46   \n",
       "...          ...             ...             ...   \n",
       "14995     u23966  15/12/14 21:11  15/12/14 21:12   \n",
       "14996     u20527   02/12/14 7:53   02/12/14 7:54   \n",
       "14997     u13253  15/11/14 21:38  15/11/14 21:46   \n",
       "14998     u17094   17/12/14 8:51   17/12/14 8:51   \n",
       "14999     u24310  17/12/14 17:25  17/12/14 17:26   \n",
       "\n",
       "                                             ProductList  gender  n_product  \\\n",
       "0      A00002/B00003/C00006/D28435/;A00002/B00003/C00...  female          4   \n",
       "1      A00001/B00009/C00031/D29404/;A00001/B00009/C00...    male          7   \n",
       "2                           A00002/B00001/C00020/D16944/  female          1   \n",
       "3      A00002/B00004/C00018/D10284/;A00002/B00004/C00...  female          3   \n",
       "4      A00001/B00001/C00012/D30805/;A00001/B00001/C00...    male          2   \n",
       "...                                                  ...     ...        ...   \n",
       "14995  A00001/B00031/C00044/D03435/;A00001/B00031/C00...     NaN          3   \n",
       "14996  A00002/B00002/C00004/D17474/;A00002/B00002/C00...     NaN          2   \n",
       "14997  A00002/B00007/C00098/D03350/;A00002/B00007/C00...     NaN          9   \n",
       "14998                       A00001/B00031/C00044/D09604/     NaN          1   \n",
       "14999  A00002/B00002/C00003/D20004/;A00002/B00002/C00...     NaN          2   \n",
       "\n",
       "          cat    scat   sscat    prod  \n",
       "0      A00002  B00003  C00006  D28435  \n",
       "1      A00001  B00009  C00031  D29404  \n",
       "2      A00002  B00001  C00020  D16944  \n",
       "3      A00002  B00004  C00018  D10284  \n",
       "4      A00001  B00001  C00012  D30805  \n",
       "...       ...     ...     ...     ...  \n",
       "14995  A00001  B00031  C00044  D03435  \n",
       "14996  A00002  B00002  C00004  D17474  \n",
       "14997  A00002  B00007  C00098  D03350  \n",
       "14998  A00001  B00031  C00044  D09604  \n",
       "14999  A00002  B00002  C00003  D20004  \n",
       "\n",
       "[15000 rows x 10 columns]"
      ]
     },
     "execution_count": 195,
     "metadata": {},
     "output_type": "execute_result"
    }
   ],
   "source": [
    "df1"
   ]
  },
  {
   "cell_type": "code",
   "execution_count": 196,
   "metadata": {},
   "outputs": [
    {
     "name": "stdout",
     "output_type": "stream",
     "text": [
      "<class 'pandas.core.frame.DataFrame'>\n",
      "RangeIndex: 15000 entries, 0 to 14999\n",
      "Data columns (total 10 columns):\n",
      " #   Column       Non-Null Count  Dtype \n",
      "---  ------       --------------  ----- \n",
      " 0   session_id   15000 non-null  object\n",
      " 1   startTime    15000 non-null  object\n",
      " 2   endTime      15000 non-null  object\n",
      " 3   ProductList  15000 non-null  object\n",
      " 4   gender       10500 non-null  object\n",
      " 5   n_product    15000 non-null  int64 \n",
      " 6   cat          15000 non-null  object\n",
      " 7   scat         15000 non-null  object\n",
      " 8   sscat        15000 non-null  object\n",
      " 9   prod         15000 non-null  object\n",
      "dtypes: int64(1), object(9)\n",
      "memory usage: 1.1+ MB\n"
     ]
    }
   ],
   "source": [
    "df1.info()"
   ]
  },
  {
   "cell_type": "code",
   "execution_count": 197,
   "metadata": {},
   "outputs": [
    {
     "name": "stderr",
     "output_type": "stream",
     "text": [
      "/home/jeet/.local/lib/python3.6/site-packages/ipykernel_launcher.py:1: FutureWarning: The pandas.datetime class is deprecated and will be removed from pandas in a future version. Import from datetime instead.\n",
      "  \"\"\"Entry point for launching an IPython kernel.\n"
     ]
    }
   ],
   "source": [
    "dateparser = lambda x : pd.datetime.strptime(x,\"%d/%m/%y %H:%M\")\n",
    "df1['startTime'] = df1['startTime'].apply(dateparser)\n",
    "df1['endTime'] = df1['endTime'].apply(dateparser)"
   ]
  },
  {
   "cell_type": "code",
   "execution_count": 198,
   "metadata": {},
   "outputs": [],
   "source": [
    "df1['time difference'] = (pd.to_datetime(df1['endTime']) - pd.to_datetime(df1['startTime'])).dt.total_seconds()/60"
   ]
  },
  {
   "cell_type": "code",
   "execution_count": 199,
   "metadata": {},
   "outputs": [
    {
     "data": {
      "text/html": [
       "<div>\n",
       "<style scoped>\n",
       "    .dataframe tbody tr th:only-of-type {\n",
       "        vertical-align: middle;\n",
       "    }\n",
       "\n",
       "    .dataframe tbody tr th {\n",
       "        vertical-align: top;\n",
       "    }\n",
       "\n",
       "    .dataframe thead th {\n",
       "        text-align: right;\n",
       "    }\n",
       "</style>\n",
       "<table border=\"1\" class=\"dataframe\">\n",
       "  <thead>\n",
       "    <tr style=\"text-align: right;\">\n",
       "      <th></th>\n",
       "      <th>session_id</th>\n",
       "      <th>startTime</th>\n",
       "      <th>endTime</th>\n",
       "      <th>ProductList</th>\n",
       "      <th>gender</th>\n",
       "      <th>n_product</th>\n",
       "      <th>cat</th>\n",
       "      <th>scat</th>\n",
       "      <th>sscat</th>\n",
       "      <th>prod</th>\n",
       "      <th>time difference</th>\n",
       "    </tr>\n",
       "  </thead>\n",
       "  <tbody>\n",
       "    <tr>\n",
       "      <th>0</th>\n",
       "      <td>u16159</td>\n",
       "      <td>2014-12-15 18:11:00</td>\n",
       "      <td>2014-12-15 18:12:00</td>\n",
       "      <td>A00002/B00003/C00006/D28435/;A00002/B00003/C00...</td>\n",
       "      <td>female</td>\n",
       "      <td>4</td>\n",
       "      <td>A00002</td>\n",
       "      <td>B00003</td>\n",
       "      <td>C00006</td>\n",
       "      <td>D28435</td>\n",
       "      <td>1.0</td>\n",
       "    </tr>\n",
       "    <tr>\n",
       "      <th>1</th>\n",
       "      <td>u10253</td>\n",
       "      <td>2014-12-16 14:35:00</td>\n",
       "      <td>2014-12-16 14:41:00</td>\n",
       "      <td>A00001/B00009/C00031/D29404/;A00001/B00009/C00...</td>\n",
       "      <td>male</td>\n",
       "      <td>7</td>\n",
       "      <td>A00001</td>\n",
       "      <td>B00009</td>\n",
       "      <td>C00031</td>\n",
       "      <td>D29404</td>\n",
       "      <td>6.0</td>\n",
       "    </tr>\n",
       "    <tr>\n",
       "      <th>2</th>\n",
       "      <td>u19037</td>\n",
       "      <td>2014-12-01 15:58:00</td>\n",
       "      <td>2014-12-01 15:58:00</td>\n",
       "      <td>A00002/B00001/C00020/D16944/</td>\n",
       "      <td>female</td>\n",
       "      <td>1</td>\n",
       "      <td>A00002</td>\n",
       "      <td>B00001</td>\n",
       "      <td>C00020</td>\n",
       "      <td>D16944</td>\n",
       "      <td>0.0</td>\n",
       "    </tr>\n",
       "    <tr>\n",
       "      <th>3</th>\n",
       "      <td>u14556</td>\n",
       "      <td>2014-11-23 02:57:00</td>\n",
       "      <td>2014-11-23 03:00:00</td>\n",
       "      <td>A00002/B00004/C00018/D10284/;A00002/B00004/C00...</td>\n",
       "      <td>female</td>\n",
       "      <td>3</td>\n",
       "      <td>A00002</td>\n",
       "      <td>B00004</td>\n",
       "      <td>C00018</td>\n",
       "      <td>D10284</td>\n",
       "      <td>3.0</td>\n",
       "    </tr>\n",
       "    <tr>\n",
       "      <th>4</th>\n",
       "      <td>u24295</td>\n",
       "      <td>2014-12-17 16:44:00</td>\n",
       "      <td>2014-12-17 16:46:00</td>\n",
       "      <td>A00001/B00001/C00012/D30805/;A00001/B00001/C00...</td>\n",
       "      <td>male</td>\n",
       "      <td>2</td>\n",
       "      <td>A00001</td>\n",
       "      <td>B00001</td>\n",
       "      <td>C00012</td>\n",
       "      <td>D30805</td>\n",
       "      <td>2.0</td>\n",
       "    </tr>\n",
       "    <tr>\n",
       "      <th>5</th>\n",
       "      <td>u20964</td>\n",
       "      <td>2014-12-12 15:31:00</td>\n",
       "      <td>2014-12-12 15:31:00</td>\n",
       "      <td>A00002/B00002/C00081/D25039/</td>\n",
       "      <td>female</td>\n",
       "      <td>1</td>\n",
       "      <td>A00002</td>\n",
       "      <td>B00002</td>\n",
       "      <td>C00081</td>\n",
       "      <td>D25039</td>\n",
       "      <td>0.0</td>\n",
       "    </tr>\n",
       "    <tr>\n",
       "      <th>6</th>\n",
       "      <td>u20981</td>\n",
       "      <td>2014-12-05 19:33:00</td>\n",
       "      <td>2014-12-05 19:34:00</td>\n",
       "      <td>A00002/B00011/C00180/D18487/;A00002/B00011/C00...</td>\n",
       "      <td>female</td>\n",
       "      <td>2</td>\n",
       "      <td>A00002</td>\n",
       "      <td>B00011</td>\n",
       "      <td>C00180</td>\n",
       "      <td>D18487</td>\n",
       "      <td>1.0</td>\n",
       "    </tr>\n",
       "    <tr>\n",
       "      <th>7</th>\n",
       "      <td>u15947</td>\n",
       "      <td>2014-12-09 16:02:00</td>\n",
       "      <td>2014-12-09 16:06:00</td>\n",
       "      <td>A00002/B00001/C00059/D15254/;A00002/B00001/C00...</td>\n",
       "      <td>male</td>\n",
       "      <td>3</td>\n",
       "      <td>A00002</td>\n",
       "      <td>B00001</td>\n",
       "      <td>C00059</td>\n",
       "      <td>D15254</td>\n",
       "      <td>4.0</td>\n",
       "    </tr>\n",
       "    <tr>\n",
       "      <th>8</th>\n",
       "      <td>u18193</td>\n",
       "      <td>2014-11-25 11:55:00</td>\n",
       "      <td>2014-11-25 11:55:00</td>\n",
       "      <td>A00002/B00001/C00010/D06129/</td>\n",
       "      <td>male</td>\n",
       "      <td>1</td>\n",
       "      <td>A00002</td>\n",
       "      <td>B00001</td>\n",
       "      <td>C00010</td>\n",
       "      <td>D06129</td>\n",
       "      <td>0.0</td>\n",
       "    </tr>\n",
       "    <tr>\n",
       "      <th>9</th>\n",
       "      <td>u21820</td>\n",
       "      <td>2014-12-06 16:16:00</td>\n",
       "      <td>2014-12-06 16:17:00</td>\n",
       "      <td>A00002/B00001/C00010/D12841/;A00002/B00002/C00...</td>\n",
       "      <td>female</td>\n",
       "      <td>2</td>\n",
       "      <td>A00002</td>\n",
       "      <td>B00001</td>\n",
       "      <td>C00010</td>\n",
       "      <td>D12841</td>\n",
       "      <td>1.0</td>\n",
       "    </tr>\n",
       "  </tbody>\n",
       "</table>\n",
       "</div>"
      ],
      "text/plain": [
       "  session_id           startTime             endTime  \\\n",
       "0     u16159 2014-12-15 18:11:00 2014-12-15 18:12:00   \n",
       "1     u10253 2014-12-16 14:35:00 2014-12-16 14:41:00   \n",
       "2     u19037 2014-12-01 15:58:00 2014-12-01 15:58:00   \n",
       "3     u14556 2014-11-23 02:57:00 2014-11-23 03:00:00   \n",
       "4     u24295 2014-12-17 16:44:00 2014-12-17 16:46:00   \n",
       "5     u20964 2014-12-12 15:31:00 2014-12-12 15:31:00   \n",
       "6     u20981 2014-12-05 19:33:00 2014-12-05 19:34:00   \n",
       "7     u15947 2014-12-09 16:02:00 2014-12-09 16:06:00   \n",
       "8     u18193 2014-11-25 11:55:00 2014-11-25 11:55:00   \n",
       "9     u21820 2014-12-06 16:16:00 2014-12-06 16:17:00   \n",
       "\n",
       "                                         ProductList  gender  n_product  \\\n",
       "0  A00002/B00003/C00006/D28435/;A00002/B00003/C00...  female          4   \n",
       "1  A00001/B00009/C00031/D29404/;A00001/B00009/C00...    male          7   \n",
       "2                       A00002/B00001/C00020/D16944/  female          1   \n",
       "3  A00002/B00004/C00018/D10284/;A00002/B00004/C00...  female          3   \n",
       "4  A00001/B00001/C00012/D30805/;A00001/B00001/C00...    male          2   \n",
       "5                       A00002/B00002/C00081/D25039/  female          1   \n",
       "6  A00002/B00011/C00180/D18487/;A00002/B00011/C00...  female          2   \n",
       "7  A00002/B00001/C00059/D15254/;A00002/B00001/C00...    male          3   \n",
       "8                       A00002/B00001/C00010/D06129/    male          1   \n",
       "9  A00002/B00001/C00010/D12841/;A00002/B00002/C00...  female          2   \n",
       "\n",
       "      cat    scat   sscat    prod  time difference  \n",
       "0  A00002  B00003  C00006  D28435              1.0  \n",
       "1  A00001  B00009  C00031  D29404              6.0  \n",
       "2  A00002  B00001  C00020  D16944              0.0  \n",
       "3  A00002  B00004  C00018  D10284              3.0  \n",
       "4  A00001  B00001  C00012  D30805              2.0  \n",
       "5  A00002  B00002  C00081  D25039              0.0  \n",
       "6  A00002  B00011  C00180  D18487              1.0  \n",
       "7  A00002  B00001  C00059  D15254              4.0  \n",
       "8  A00002  B00001  C00010  D06129              0.0  \n",
       "9  A00002  B00001  C00010  D12841              1.0  "
      ]
     },
     "execution_count": 199,
     "metadata": {},
     "output_type": "execute_result"
    }
   ],
   "source": [
    "df1.head(10)"
   ]
  },
  {
   "cell_type": "code",
   "execution_count": 200,
   "metadata": {},
   "outputs": [],
   "source": [
    "df1.drop(columns=['endTime','startTime','ProductList'],inplace=True)"
   ]
  },
  {
   "cell_type": "code",
   "execution_count": null,
   "metadata": {},
   "outputs": [],
   "source": []
  },
  {
   "cell_type": "code",
   "execution_count": 201,
   "metadata": {},
   "outputs": [
    {
     "data": {
      "text/html": [
       "<div>\n",
       "<style scoped>\n",
       "    .dataframe tbody tr th:only-of-type {\n",
       "        vertical-align: middle;\n",
       "    }\n",
       "\n",
       "    .dataframe tbody tr th {\n",
       "        vertical-align: top;\n",
       "    }\n",
       "\n",
       "    .dataframe thead th {\n",
       "        text-align: right;\n",
       "    }\n",
       "</style>\n",
       "<table border=\"1\" class=\"dataframe\">\n",
       "  <thead>\n",
       "    <tr style=\"text-align: right;\">\n",
       "      <th></th>\n",
       "      <th>session_id</th>\n",
       "      <th>gender</th>\n",
       "      <th>n_product</th>\n",
       "      <th>cat</th>\n",
       "      <th>scat</th>\n",
       "      <th>sscat</th>\n",
       "      <th>prod</th>\n",
       "      <th>time difference</th>\n",
       "    </tr>\n",
       "  </thead>\n",
       "  <tbody>\n",
       "    <tr>\n",
       "      <th>0</th>\n",
       "      <td>u16159</td>\n",
       "      <td>female</td>\n",
       "      <td>4</td>\n",
       "      <td>A00002</td>\n",
       "      <td>B00003</td>\n",
       "      <td>C00006</td>\n",
       "      <td>D28435</td>\n",
       "      <td>1.0</td>\n",
       "    </tr>\n",
       "    <tr>\n",
       "      <th>1</th>\n",
       "      <td>u10253</td>\n",
       "      <td>male</td>\n",
       "      <td>7</td>\n",
       "      <td>A00001</td>\n",
       "      <td>B00009</td>\n",
       "      <td>C00031</td>\n",
       "      <td>D29404</td>\n",
       "      <td>6.0</td>\n",
       "    </tr>\n",
       "    <tr>\n",
       "      <th>2</th>\n",
       "      <td>u19037</td>\n",
       "      <td>female</td>\n",
       "      <td>1</td>\n",
       "      <td>A00002</td>\n",
       "      <td>B00001</td>\n",
       "      <td>C00020</td>\n",
       "      <td>D16944</td>\n",
       "      <td>0.0</td>\n",
       "    </tr>\n",
       "    <tr>\n",
       "      <th>3</th>\n",
       "      <td>u14556</td>\n",
       "      <td>female</td>\n",
       "      <td>3</td>\n",
       "      <td>A00002</td>\n",
       "      <td>B00004</td>\n",
       "      <td>C00018</td>\n",
       "      <td>D10284</td>\n",
       "      <td>3.0</td>\n",
       "    </tr>\n",
       "    <tr>\n",
       "      <th>4</th>\n",
       "      <td>u24295</td>\n",
       "      <td>male</td>\n",
       "      <td>2</td>\n",
       "      <td>A00001</td>\n",
       "      <td>B00001</td>\n",
       "      <td>C00012</td>\n",
       "      <td>D30805</td>\n",
       "      <td>2.0</td>\n",
       "    </tr>\n",
       "  </tbody>\n",
       "</table>\n",
       "</div>"
      ],
      "text/plain": [
       "  session_id  gender  n_product     cat    scat   sscat    prod  \\\n",
       "0     u16159  female          4  A00002  B00003  C00006  D28435   \n",
       "1     u10253    male          7  A00001  B00009  C00031  D29404   \n",
       "2     u19037  female          1  A00002  B00001  C00020  D16944   \n",
       "3     u14556  female          3  A00002  B00004  C00018  D10284   \n",
       "4     u24295    male          2  A00001  B00001  C00012  D30805   \n",
       "\n",
       "   time difference  \n",
       "0              1.0  \n",
       "1              6.0  \n",
       "2              0.0  \n",
       "3              3.0  \n",
       "4              2.0  "
      ]
     },
     "execution_count": 201,
     "metadata": {},
     "output_type": "execute_result"
    }
   ],
   "source": [
    "df1.head()\n"
   ]
  },
  {
   "cell_type": "code",
   "execution_count": 202,
   "metadata": {},
   "outputs": [
    {
     "data": {
      "text/html": [
       "<div>\n",
       "<style scoped>\n",
       "    .dataframe tbody tr th:only-of-type {\n",
       "        vertical-align: middle;\n",
       "    }\n",
       "\n",
       "    .dataframe tbody tr th {\n",
       "        vertical-align: top;\n",
       "    }\n",
       "\n",
       "    .dataframe thead th {\n",
       "        text-align: right;\n",
       "    }\n",
       "</style>\n",
       "<table border=\"1\" class=\"dataframe\">\n",
       "  <thead>\n",
       "    <tr style=\"text-align: right;\">\n",
       "      <th></th>\n",
       "      <th>session_id</th>\n",
       "      <th>gender</th>\n",
       "      <th>n_product</th>\n",
       "      <th>cat</th>\n",
       "      <th>scat</th>\n",
       "      <th>sscat</th>\n",
       "      <th>prod</th>\n",
       "      <th>time difference</th>\n",
       "    </tr>\n",
       "  </thead>\n",
       "  <tbody>\n",
       "    <tr>\n",
       "      <th>0</th>\n",
       "      <td>u16159</td>\n",
       "      <td>female</td>\n",
       "      <td>4</td>\n",
       "      <td>1</td>\n",
       "      <td>2</td>\n",
       "      <td>5</td>\n",
       "      <td>9144</td>\n",
       "      <td>1.0</td>\n",
       "    </tr>\n",
       "    <tr>\n",
       "      <th>1</th>\n",
       "      <td>u10253</td>\n",
       "      <td>male</td>\n",
       "      <td>7</td>\n",
       "      <td>0</td>\n",
       "      <td>8</td>\n",
       "      <td>30</td>\n",
       "      <td>9422</td>\n",
       "      <td>6.0</td>\n",
       "    </tr>\n",
       "    <tr>\n",
       "      <th>2</th>\n",
       "      <td>u19037</td>\n",
       "      <td>female</td>\n",
       "      <td>1</td>\n",
       "      <td>1</td>\n",
       "      <td>0</td>\n",
       "      <td>19</td>\n",
       "      <td>5795</td>\n",
       "      <td>0.0</td>\n",
       "    </tr>\n",
       "    <tr>\n",
       "      <th>3</th>\n",
       "      <td>u14556</td>\n",
       "      <td>female</td>\n",
       "      <td>3</td>\n",
       "      <td>1</td>\n",
       "      <td>3</td>\n",
       "      <td>17</td>\n",
       "      <td>3668</td>\n",
       "      <td>3.0</td>\n",
       "    </tr>\n",
       "    <tr>\n",
       "      <th>4</th>\n",
       "      <td>u24295</td>\n",
       "      <td>male</td>\n",
       "      <td>2</td>\n",
       "      <td>0</td>\n",
       "      <td>0</td>\n",
       "      <td>11</td>\n",
       "      <td>9762</td>\n",
       "      <td>2.0</td>\n",
       "    </tr>\n",
       "  </tbody>\n",
       "</table>\n",
       "</div>"
      ],
      "text/plain": [
       "  session_id  gender  n_product  cat  scat  sscat  prod  time difference\n",
       "0     u16159  female          4    1     2      5  9144              1.0\n",
       "1     u10253    male          7    0     8     30  9422              6.0\n",
       "2     u19037  female          1    1     0     19  5795              0.0\n",
       "3     u14556  female          3    1     3     17  3668              3.0\n",
       "4     u24295    male          2    0     0     11  9762              2.0"
      ]
     },
     "execution_count": 202,
     "metadata": {},
     "output_type": "execute_result"
    }
   ],
   "source": [
    "from sklearn.preprocessing import LabelEncoder\n",
    "le = LabelEncoder()\n",
    "for a in ['cat','scat','sscat','prod'] :\n",
    "    df1[a] = le.fit_transform(df1[a])\n",
    "df1.head()"
   ]
  },
  {
   "cell_type": "code",
   "execution_count": 203,
   "metadata": {},
   "outputs": [
    {
     "name": "stdout",
     "output_type": "stream",
     "text": [
      "(10500, 8) (4500, 8)\n"
     ]
    }
   ],
   "source": [
    "df_train=df1[df1['gender'].isnull()==False].copy()\n",
    "df_test=df1[df1['gender'].isnull()==True].copy()\n",
    "\n",
    "print(df_train.shape,df_test.shape)"
   ]
  },
  {
   "cell_type": "code",
   "execution_count": 204,
   "metadata": {},
   "outputs": [],
   "source": [
    "test_ids = df_test['session_id'] "
   ]
  },
  {
   "cell_type": "code",
   "execution_count": 205,
   "metadata": {},
   "outputs": [
    {
     "data": {
      "text/html": [
       "<div>\n",
       "<style scoped>\n",
       "    .dataframe tbody tr th:only-of-type {\n",
       "        vertical-align: middle;\n",
       "    }\n",
       "\n",
       "    .dataframe tbody tr th {\n",
       "        vertical-align: top;\n",
       "    }\n",
       "\n",
       "    .dataframe thead th {\n",
       "        text-align: right;\n",
       "    }\n",
       "</style>\n",
       "<table border=\"1\" class=\"dataframe\">\n",
       "  <thead>\n",
       "    <tr style=\"text-align: right;\">\n",
       "      <th></th>\n",
       "      <th>session_id</th>\n",
       "      <th>gender</th>\n",
       "      <th>n_product</th>\n",
       "      <th>cat</th>\n",
       "      <th>scat</th>\n",
       "      <th>sscat</th>\n",
       "      <th>prod</th>\n",
       "      <th>time difference</th>\n",
       "    </tr>\n",
       "  </thead>\n",
       "  <tbody>\n",
       "    <tr>\n",
       "      <th>0</th>\n",
       "      <td>u16159</td>\n",
       "      <td>female</td>\n",
       "      <td>4</td>\n",
       "      <td>1</td>\n",
       "      <td>2</td>\n",
       "      <td>5</td>\n",
       "      <td>9144</td>\n",
       "      <td>1.0</td>\n",
       "    </tr>\n",
       "    <tr>\n",
       "      <th>1</th>\n",
       "      <td>u10253</td>\n",
       "      <td>male</td>\n",
       "      <td>7</td>\n",
       "      <td>0</td>\n",
       "      <td>8</td>\n",
       "      <td>30</td>\n",
       "      <td>9422</td>\n",
       "      <td>6.0</td>\n",
       "    </tr>\n",
       "    <tr>\n",
       "      <th>2</th>\n",
       "      <td>u19037</td>\n",
       "      <td>female</td>\n",
       "      <td>1</td>\n",
       "      <td>1</td>\n",
       "      <td>0</td>\n",
       "      <td>19</td>\n",
       "      <td>5795</td>\n",
       "      <td>0.0</td>\n",
       "    </tr>\n",
       "    <tr>\n",
       "      <th>3</th>\n",
       "      <td>u14556</td>\n",
       "      <td>female</td>\n",
       "      <td>3</td>\n",
       "      <td>1</td>\n",
       "      <td>3</td>\n",
       "      <td>17</td>\n",
       "      <td>3668</td>\n",
       "      <td>3.0</td>\n",
       "    </tr>\n",
       "    <tr>\n",
       "      <th>4</th>\n",
       "      <td>u24295</td>\n",
       "      <td>male</td>\n",
       "      <td>2</td>\n",
       "      <td>0</td>\n",
       "      <td>0</td>\n",
       "      <td>11</td>\n",
       "      <td>9762</td>\n",
       "      <td>2.0</td>\n",
       "    </tr>\n",
       "  </tbody>\n",
       "</table>\n",
       "</div>"
      ],
      "text/plain": [
       "  session_id  gender  n_product  cat  scat  sscat  prod  time difference\n",
       "0     u16159  female          4    1     2      5  9144              1.0\n",
       "1     u10253    male          7    0     8     30  9422              6.0\n",
       "2     u19037  female          1    1     0     19  5795              0.0\n",
       "3     u14556  female          3    1     3     17  3668              3.0\n",
       "4     u24295    male          2    0     0     11  9762              2.0"
      ]
     },
     "execution_count": 205,
     "metadata": {},
     "output_type": "execute_result"
    }
   ],
   "source": [
    "df_train.head()"
   ]
  },
  {
   "cell_type": "code",
   "execution_count": 206,
   "metadata": {},
   "outputs": [],
   "source": [
    "df_train['gender']=df_train['gender'].apply(lambda x : 1 if x == 'male' else 0)\n",
    "df_train.drop(columns='session_id',axis=1, inplace=True)\n",
    "df_test.drop(columns=['gender','session_id'],axis=1, inplace=True)"
   ]
  },
  {
   "cell_type": "code",
   "execution_count": 207,
   "metadata": {},
   "outputs": [
    {
     "data": {
      "text/html": [
       "<div>\n",
       "<style scoped>\n",
       "    .dataframe tbody tr th:only-of-type {\n",
       "        vertical-align: middle;\n",
       "    }\n",
       "\n",
       "    .dataframe tbody tr th {\n",
       "        vertical-align: top;\n",
       "    }\n",
       "\n",
       "    .dataframe thead th {\n",
       "        text-align: right;\n",
       "    }\n",
       "</style>\n",
       "<table border=\"1\" class=\"dataframe\">\n",
       "  <thead>\n",
       "    <tr style=\"text-align: right;\">\n",
       "      <th></th>\n",
       "      <th>gender</th>\n",
       "      <th>n_product</th>\n",
       "      <th>cat</th>\n",
       "      <th>scat</th>\n",
       "      <th>sscat</th>\n",
       "      <th>prod</th>\n",
       "      <th>time difference</th>\n",
       "    </tr>\n",
       "  </thead>\n",
       "  <tbody>\n",
       "    <tr>\n",
       "      <th>0</th>\n",
       "      <td>0</td>\n",
       "      <td>4</td>\n",
       "      <td>1</td>\n",
       "      <td>2</td>\n",
       "      <td>5</td>\n",
       "      <td>9144</td>\n",
       "      <td>1.0</td>\n",
       "    </tr>\n",
       "    <tr>\n",
       "      <th>1</th>\n",
       "      <td>1</td>\n",
       "      <td>7</td>\n",
       "      <td>0</td>\n",
       "      <td>8</td>\n",
       "      <td>30</td>\n",
       "      <td>9422</td>\n",
       "      <td>6.0</td>\n",
       "    </tr>\n",
       "    <tr>\n",
       "      <th>2</th>\n",
       "      <td>0</td>\n",
       "      <td>1</td>\n",
       "      <td>1</td>\n",
       "      <td>0</td>\n",
       "      <td>19</td>\n",
       "      <td>5795</td>\n",
       "      <td>0.0</td>\n",
       "    </tr>\n",
       "    <tr>\n",
       "      <th>3</th>\n",
       "      <td>0</td>\n",
       "      <td>3</td>\n",
       "      <td>1</td>\n",
       "      <td>3</td>\n",
       "      <td>17</td>\n",
       "      <td>3668</td>\n",
       "      <td>3.0</td>\n",
       "    </tr>\n",
       "    <tr>\n",
       "      <th>4</th>\n",
       "      <td>1</td>\n",
       "      <td>2</td>\n",
       "      <td>0</td>\n",
       "      <td>0</td>\n",
       "      <td>11</td>\n",
       "      <td>9762</td>\n",
       "      <td>2.0</td>\n",
       "    </tr>\n",
       "  </tbody>\n",
       "</table>\n",
       "</div>"
      ],
      "text/plain": [
       "   gender  n_product  cat  scat  sscat  prod  time difference\n",
       "0       0          4    1     2      5  9144              1.0\n",
       "1       1          7    0     8     30  9422              6.0\n",
       "2       0          1    1     0     19  5795              0.0\n",
       "3       0          3    1     3     17  3668              3.0\n",
       "4       1          2    0     0     11  9762              2.0"
      ]
     },
     "execution_count": 207,
     "metadata": {},
     "output_type": "execute_result"
    }
   ],
   "source": [
    "df_train.head()"
   ]
  },
  {
   "cell_type": "code",
   "execution_count": 208,
   "metadata": {},
   "outputs": [
    {
     "data": {
      "text/html": [
       "<div>\n",
       "<style scoped>\n",
       "    .dataframe tbody tr th:only-of-type {\n",
       "        vertical-align: middle;\n",
       "    }\n",
       "\n",
       "    .dataframe tbody tr th {\n",
       "        vertical-align: top;\n",
       "    }\n",
       "\n",
       "    .dataframe thead th {\n",
       "        text-align: right;\n",
       "    }\n",
       "</style>\n",
       "<table border=\"1\" class=\"dataframe\">\n",
       "  <thead>\n",
       "    <tr style=\"text-align: right;\">\n",
       "      <th></th>\n",
       "      <th>n_product</th>\n",
       "      <th>cat</th>\n",
       "      <th>scat</th>\n",
       "      <th>sscat</th>\n",
       "      <th>prod</th>\n",
       "      <th>time difference</th>\n",
       "    </tr>\n",
       "  </thead>\n",
       "  <tbody>\n",
       "    <tr>\n",
       "      <th>10500</th>\n",
       "      <td>1</td>\n",
       "      <td>1</td>\n",
       "      <td>2</td>\n",
       "      <td>5</td>\n",
       "      <td>6768</td>\n",
       "      <td>0.0</td>\n",
       "    </tr>\n",
       "    <tr>\n",
       "      <th>10501</th>\n",
       "      <td>1</td>\n",
       "      <td>1</td>\n",
       "      <td>4</td>\n",
       "      <td>65</td>\n",
       "      <td>809</td>\n",
       "      <td>0.0</td>\n",
       "    </tr>\n",
       "    <tr>\n",
       "      <th>10502</th>\n",
       "      <td>1</td>\n",
       "      <td>1</td>\n",
       "      <td>1</td>\n",
       "      <td>3</td>\n",
       "      <td>4408</td>\n",
       "      <td>0.0</td>\n",
       "    </tr>\n",
       "    <tr>\n",
       "      <th>10503</th>\n",
       "      <td>4</td>\n",
       "      <td>1</td>\n",
       "      <td>2</td>\n",
       "      <td>76</td>\n",
       "      <td>7585</td>\n",
       "      <td>3.0</td>\n",
       "    </tr>\n",
       "    <tr>\n",
       "      <th>10504</th>\n",
       "      <td>1</td>\n",
       "      <td>1</td>\n",
       "      <td>0</td>\n",
       "      <td>9</td>\n",
       "      <td>7756</td>\n",
       "      <td>0.0</td>\n",
       "    </tr>\n",
       "  </tbody>\n",
       "</table>\n",
       "</div>"
      ],
      "text/plain": [
       "       n_product  cat  scat  sscat  prod  time difference\n",
       "10500          1    1     2      5  6768              0.0\n",
       "10501          1    1     4     65   809              0.0\n",
       "10502          1    1     1      3  4408              0.0\n",
       "10503          4    1     2     76  7585              3.0\n",
       "10504          1    1     0      9  7756              0.0"
      ]
     },
     "execution_count": 208,
     "metadata": {},
     "output_type": "execute_result"
    }
   ],
   "source": [
    "df_test.head()"
   ]
  },
  {
   "cell_type": "code",
   "execution_count": 209,
   "metadata": {},
   "outputs": [],
   "source": [
    "x = df_train.drop('gender',axis=1)\n",
    "y = df_train['gender']"
   ]
  },
  {
   "cell_type": "code",
   "execution_count": 210,
   "metadata": {},
   "outputs": [],
   "source": [
    "\n",
    "from sklearn.model_selection import train_test_split\n",
    "xtrain,xtest,ytrain,ytest = train_test_split(x,y,test_size=0.25,random_state=42)"
   ]
  },
  {
   "cell_type": "markdown",
   "metadata": {},
   "source": [
    "Modeling"
   ]
  },
  {
   "cell_type": "code",
   "execution_count": 211,
   "metadata": {},
   "outputs": [],
   "source": [
    "from sklearn.model_selection import cross_val_score, GridSearchCV\n",
    "from sklearn.metrics import confusion_matrix, roc_curve,roc_auc_score\n",
    "\n",
    "def disp_confusion_matrix(model, x, y):\n",
    "    ypred = model.predict(x)\n",
    "    cm = confusion_matrix(y,ypred)\n",
    "    ax = sns.heatmap(cm,annot=True,fmt='d')\n",
    "\n",
    "    ax.set_xlabel('Predicted labels')\n",
    "    ax.set_ylabel('True Labels')\n",
    "    ax.set_title('Confusion Matrix')\n",
    "    plt.show()\n",
    "    \n",
    "    tp = cm[1,1]\n",
    "    fn = cm[1,0]\n",
    "    fp = cm[0,1]\n",
    "    tn = cm[0,0]\n",
    "    accuracy = (tp+tn)/(tp+fn+fp+tn)\n",
    "    precision = tp/(tp+fp)\n",
    "    recall = tp/(tp+fn)\n",
    "    f1 = (2*precision*recall)/(precision+recall)\n",
    "    print('Accuracy =',accuracy)\n",
    "    print('Precision =',precision)\n",
    "    print('Recall =',recall)\n",
    "    print('F1 Score =',f1)\n",
    "\n",
    "def disp_roc_curve(model, xtest, ytest):\n",
    "    yprob = model.predict_proba(xtest)\n",
    "    fpr,tpr,threshold = roc_curve(ytest,yprob[:,1])\n",
    "    roc_auc = roc_auc_score(ytest,yprob[:,1])\n",
    "\n",
    "    print('ROC AUC =', roc_auc)\n",
    "    plt.figure()\n",
    "    lw = 2\n",
    "    plt.plot(fpr,tpr,color='darkorange',lw=lw,label='ROC Curve (area = %0.2f)'%roc_auc)\n",
    "    plt.plot([0,1],[0,1],color='navy',lw=lw,linestyle='--')\n",
    "    plt.xlim([0.0, 1.0])\n",
    "    plt.ylim([0.0, 1.05])\n",
    "    plt.xlabel('FPR')\n",
    "    plt.ylabel('TPR')\n",
    "    plt.title('ROC Curve')\n",
    "    plt.legend(loc='lower right')\n",
    "    plt.show()"
   ]
  },
  {
   "cell_type": "markdown",
   "metadata": {},
   "source": [
    "Random Forest"
   ]
  },
  {
   "cell_type": "code",
   "execution_count": 212,
   "metadata": {},
   "outputs": [
    {
     "name": "stdout",
     "output_type": "stream",
     "text": [
      "Training set score = 0.994\n",
      "Test set score = 0.862\n"
     ]
    }
   ],
   "source": [
    "from sklearn.ensemble import RandomForestClassifier\n",
    "rf = RandomForestClassifier()\n",
    "rf.fit(xtrain, ytrain)\n",
    "print('Training set score = {:.3f}'.format(rf.score(xtrain,ytrain)))\n",
    "print('Test set score = {:.3f}'.format(rf.score(xtest,ytest)))"
   ]
  },
  {
   "cell_type": "code",
   "execution_count": 213,
   "metadata": {},
   "outputs": [
    {
     "data": {
      "image/png": "[encoded data removed]",
      "text/plain": [
       "<Figure size 432x288 with 2 Axes>"
      ]
     },
     "metadata": {
      "needs_background": "light"
     },
     "output_type": "display_data"
    },
    {
     "name": "stdout",
     "output_type": "stream",
     "text": [
      "Accuracy = 0.8624761904761905\n",
      "Precision = 0.7397849462365591\n",
      "Recall = 0.589041095890411\n",
      "F1 Score = 0.655862726406101\n",
      "ROC AUC = 0.8378208204412286\n"
     ]
    },
    {
     "data": {
      "image/png": "[encoded data removed]",
      "text/plain": [
       "<Figure size 432x288 with 1 Axes>"
      ]
     },
     "metadata": {
      "needs_background": "light"
     },
     "output_type": "display_data"
    }
   ],
   "source": [
    "\n",
    "disp_confusion_matrix(rf, xtest, ytest)\n",
    "disp_roc_curve(rf, xtest, ytest)"
   ]
  },
  {
   "cell_type": "code",
   "execution_count": 244,
   "metadata": {},
   "outputs": [],
   "source": [
    "\n",
    "rf.fit(x,y)\n",
    "test_prob = rf.predict_proba(df_test)[:,1]\n",
    "df_rf = pd.DataFrame({'session_id':test_ids,'gender':test_prob})\n"
   ]
  },
  {
   "cell_type": "code",
   "execution_count": 220,
   "metadata": {},
   "outputs": [],
   "source": [
    "df_rf['gender'] = df_rf['gender'].apply(lambda x : 'male' if x>0.5 else 'female')"
   ]
  },
  {
   "cell_type": "code",
   "execution_count": 221,
   "metadata": {},
   "outputs": [
    {
     "data": {
      "text/plain": [
       "female    3695\n",
       "male       805\n",
       "Name: gender, dtype: int64"
      ]
     },
     "execution_count": 221,
     "metadata": {},
     "output_type": "execute_result"
    }
   ],
   "source": [
    "df_rf['gender'].value_counts()\n"
   ]
  },
  {
   "cell_type": "code",
   "execution_count": 222,
   "metadata": {},
   "outputs": [],
   "source": [
    "df_rf.to_csv('submission-rf.csv',index=False)"
   ]
  },
  {
   "cell_type": "code",
   "execution_count": 223,
   "metadata": {},
   "outputs": [
    {
     "data": {
      "text/html": [
       "<div>\n",
       "<style scoped>\n",
       "    .dataframe tbody tr th:only-of-type {\n",
       "        vertical-align: middle;\n",
       "    }\n",
       "\n",
       "    .dataframe tbody tr th {\n",
       "        vertical-align: top;\n",
       "    }\n",
       "\n",
       "    .dataframe thead th {\n",
       "        text-align: right;\n",
       "    }\n",
       "</style>\n",
       "<table border=\"1\" class=\"dataframe\">\n",
       "  <thead>\n",
       "    <tr style=\"text-align: right;\">\n",
       "      <th></th>\n",
       "      <th>Features</th>\n",
       "      <th>Importance</th>\n",
       "    </tr>\n",
       "  </thead>\n",
       "  <tbody>\n",
       "    <tr>\n",
       "      <th>4</th>\n",
       "      <td>prod</td>\n",
       "      <td>0.397114</td>\n",
       "    </tr>\n",
       "    <tr>\n",
       "      <th>1</th>\n",
       "      <td>cat</td>\n",
       "      <td>0.300418</td>\n",
       "    </tr>\n",
       "    <tr>\n",
       "      <th>3</th>\n",
       "      <td>sscat</td>\n",
       "      <td>0.135030</td>\n",
       "    </tr>\n",
       "    <tr>\n",
       "      <th>2</th>\n",
       "      <td>scat</td>\n",
       "      <td>0.070968</td>\n",
       "    </tr>\n",
       "    <tr>\n",
       "      <th>5</th>\n",
       "      <td>time difference</td>\n",
       "      <td>0.053060</td>\n",
       "    </tr>\n",
       "    <tr>\n",
       "      <th>0</th>\n",
       "      <td>n_product</td>\n",
       "      <td>0.043409</td>\n",
       "    </tr>\n",
       "  </tbody>\n",
       "</table>\n",
       "</div>"
      ],
      "text/plain": [
       "          Features  Importance\n",
       "4             prod    0.397114\n",
       "1              cat    0.300418\n",
       "3            sscat    0.135030\n",
       "2             scat    0.070968\n",
       "5  time difference    0.053060\n",
       "0        n_product    0.043409"
      ]
     },
     "execution_count": 223,
     "metadata": {},
     "output_type": "execute_result"
    }
   ],
   "source": [
    "pd.DataFrame({'Features':x.columns, 'Importance':rf.feature_importances_}).sort_values(by='Importance',ascending=False)"
   ]
  },
  {
   "cell_type": "markdown",
   "metadata": {},
   "source": [
    "Gradient Boosting"
   ]
  },
  {
   "cell_type": "code",
   "execution_count": 224,
   "metadata": {},
   "outputs": [
    {
     "name": "stdout",
     "output_type": "stream",
     "text": [
      "Training set score = 0.918\n",
      "Test set score = 0.872\n"
     ]
    }
   ],
   "source": [
    "from xgboost import XGBClassifier\n",
    "xgb = XGBClassifier(objective='binary:logistic')\n",
    "xgb.fit(xtrain,ytrain)\n",
    "print('Training set score = {:.3f}'.format(xgb.score(xtrain,ytrain)))\n",
    "print('Test set score = {:.3f}'.format(xgb.score(xtest,ytest)))"
   ]
  },
  {
   "cell_type": "code",
   "execution_count": 225,
   "metadata": {},
   "outputs": [
    {
     "data": {
      "image/png": "[encoded data removed]",
      "text/plain": [
       "<Figure size 432x288 with 2 Axes>"
      ]
     },
     "metadata": {
      "needs_background": "light"
     },
     "output_type": "display_data"
    },
    {
     "name": "stdout",
     "output_type": "stream",
     "text": [
      "Accuracy = 0.8716190476190476\n",
      "Precision = 0.8004866180048662\n",
      "Recall = 0.5633561643835616\n",
      "F1 Score = 0.6613065326633165\n",
      "ROC AUC = 0.8399186538964918\n"
     ]
    },
    {
     "data": {
      "image/png": "[encoded data removed]",
      "text/plain": [
       "<Figure size 432x288 with 1 Axes>"
      ]
     },
     "metadata": {
      "needs_background": "light"
     },
     "output_type": "display_data"
    }
   ],
   "source": [
    "\n",
    "disp_confusion_matrix(xgb, xtest, ytest)\n",
    "disp_roc_curve(xgb, xtest, ytest)"
   ]
  },
  {
   "cell_type": "code",
   "execution_count": 231,
   "metadata": {},
   "outputs": [
    {
     "data": {
      "text/html": [
       "<div>\n",
       "<style scoped>\n",
       "    .dataframe tbody tr th:only-of-type {\n",
       "        vertical-align: middle;\n",
       "    }\n",
       "\n",
       "    .dataframe tbody tr th {\n",
       "        vertical-align: top;\n",
       "    }\n",
       "\n",
       "    .dataframe thead th {\n",
       "        text-align: right;\n",
       "    }\n",
       "</style>\n",
       "<table border=\"1\" class=\"dataframe\">\n",
       "  <thead>\n",
       "    <tr style=\"text-align: right;\">\n",
       "      <th></th>\n",
       "      <th>session_id</th>\n",
       "      <th>gender</th>\n",
       "    </tr>\n",
       "  </thead>\n",
       "  <tbody>\n",
       "    <tr>\n",
       "      <th>10500</th>\n",
       "      <td>u12112</td>\n",
       "      <td>0.084632</td>\n",
       "    </tr>\n",
       "    <tr>\n",
       "      <th>10501</th>\n",
       "      <td>u19725</td>\n",
       "      <td>0.138044</td>\n",
       "    </tr>\n",
       "    <tr>\n",
       "      <th>10502</th>\n",
       "      <td>u11795</td>\n",
       "      <td>0.187565</td>\n",
       "    </tr>\n",
       "    <tr>\n",
       "      <th>10503</th>\n",
       "      <td>u22639</td>\n",
       "      <td>0.453490</td>\n",
       "    </tr>\n",
       "    <tr>\n",
       "      <th>10504</th>\n",
       "      <td>u18034</td>\n",
       "      <td>0.140104</td>\n",
       "    </tr>\n",
       "  </tbody>\n",
       "</table>\n",
       "</div>"
      ],
      "text/plain": [
       "      session_id    gender\n",
       "10500     u12112  0.084632\n",
       "10501     u19725  0.138044\n",
       "10502     u11795  0.187565\n",
       "10503     u22639  0.453490\n",
       "10504     u18034  0.140104"
      ]
     },
     "execution_count": 231,
     "metadata": {},
     "output_type": "execute_result"
    }
   ],
   "source": [
    "\n",
    "\n",
    "xgb.fit(x,y)\n",
    "test_prob = xgb.predict_proba(df_test)[:,1]\n",
    "df_xgb = pd.DataFrame({'session_id':test_ids,'gender':test_prob})\n",
    "df_xgb.head()"
   ]
  },
  {
   "cell_type": "code",
   "execution_count": 232,
   "metadata": {},
   "outputs": [],
   "source": [
    "df_xgb['gender'] = df_xgb['gender'].apply(lambda x : 'male' if x>0.5 else 'female')\n",
    "\n"
   ]
  },
  {
   "cell_type": "code",
   "execution_count": 234,
   "metadata": {},
   "outputs": [
    {
     "data": {
      "text/plain": [
       "female    3814\n",
       "male       686\n",
       "Name: gender, dtype: int64"
      ]
     },
     "execution_count": 234,
     "metadata": {},
     "output_type": "execute_result"
    }
   ],
   "source": [
    "df_xgb['gender'].value_counts()"
   ]
  },
  {
   "cell_type": "code",
   "execution_count": 235,
   "metadata": {},
   "outputs": [],
   "source": [
    "df_xgb.to_csv('submission-xgb.csv',index=False)"
   ]
  },
  {
   "cell_type": "code",
   "execution_count": 236,
   "metadata": {},
   "outputs": [
    {
     "name": "stdout",
     "output_type": "stream",
     "text": [
      "100 : [0.84164065 0.8314981  0.82638459 0.82802977 0.83983345]\n",
      "150 : [0.8424129  0.83192955 0.82340279 0.82427361 0.83664087]\n",
      "200 : [0.83873427 0.82856194 0.82267732 0.82279097 0.83745157]\n",
      "250 : [0.83780386 0.82703265 0.81608471 0.8204157  0.8367968 ]\n"
     ]
    },
    {
     "data": {
      "image/png": "[encoded data removed]",
      "text/plain": [
       "<Figure size 1008x432 with 1 Axes>"
      ]
     },
     "metadata": {
      "needs_background": "light"
     },
     "output_type": "display_data"
    }
   ],
   "source": [
    "arr=[100,150,200,250]\n",
    "cv_scores = []\n",
    "for a in arr:\n",
    "    model = XGBClassifier(objective='binary:logistic', n_jobs=4, n_estimators=a)\n",
    "    cv_score = cross_val_score(model, x, y, cv=5, scoring='roc_auc')\n",
    "    print(a, ':', cv_score)\n",
    "    cv_scores.append(cv_score)\n",
    "    \n",
    "fig, ax = plt.subplots(figsize=(14,6))\n",
    "plt.boxplot(cv_scores)\n",
    "ax.set_xticklabels(arr)\n",
    "plt.xlabel('n')\n",
    "plt.ylabel('roc_auc')\n",
    "plt.show()"
   ]
  },
  {
   "cell_type": "code",
   "execution_count": 239,
   "metadata": {},
   "outputs": [
    {
     "name": "stdout",
     "output_type": "stream",
     "text": [
      "Fitting 5 folds for each of 108 candidates, totalling 540 fits\n"
     ]
    },
    {
     "name": "stderr",
     "output_type": "stream",
     "text": [
      "[Parallel(n_jobs=4)]: Using backend LokyBackend with 4 concurrent workers.\n",
      "[Parallel(n_jobs=4)]: Done  42 tasks      | elapsed: 10.6min\n",
      "[Parallel(n_jobs=4)]: Done 192 tasks      | elapsed: 44.6min\n",
      "[Parallel(n_jobs=4)]: Done 442 tasks      | elapsed: 108.1min\n",
      "[Parallel(n_jobs=4)]: Done 540 out of 540 | elapsed: 137.4min finished\n"
     ]
    },
    {
     "data": {
      "text/plain": [
       "GridSearchCV(cv=5, error_score=nan,\n",
       "             estimator=XGBClassifier(base_score=None, booster=None,\n",
       "                                     colsample_bylevel=None,\n",
       "                                     colsample_bynode=None,\n",
       "                                     colsample_bytree=None, gamma=None,\n",
       "                                     gpu_id=None, importance_type='gain',\n",
       "                                     interaction_constraints=None,\n",
       "                                     learning_rate=None, max_delta_step=None,\n",
       "                                     max_depth=None, min_child_weight=None,\n",
       "                                     missing=nan, monotone_constraints=None,\n",
       "                                     n_estim...\n",
       "                                     reg_lambda=None, scale_pos_weight=None,\n",
       "                                     subsample=None, tree_method=None,\n",
       "                                     validate_parameters=False,\n",
       "                                     verbosity=None),\n",
       "             iid='deprecated', n_jobs=4,\n",
       "             param_grid={'colsample_bytree': [0.6, 0.8, 1],\n",
       "                         'gamma': [0, 0.5, 1], 'max_depth': [5, 6],\n",
       "                         'min_child_weight': [0.5, 1],\n",
       "                         'subsample': [0.8, 0.9, 1]},\n",
       "             pre_dispatch='2*n_jobs', refit=True, return_train_score=False,\n",
       "             scoring='roc_auc', verbose=1)"
      ]
     },
     "execution_count": 239,
     "metadata": {},
     "output_type": "execute_result"
    }
   ],
   "source": [
    "param_grid = {\n",
    "    'max_depth':[5,6],\n",
    "    'subsample':[0.8,0.9,1],\n",
    "    'colsample_bytree': [0.6,0.8,1],\n",
    "    'min_child_weight': [0.5,1],\n",
    "    'gamma': [0,0.5,1]\n",
    "}\n",
    "xgb = XGBClassifier(objective='binary:logistic', n_jobs=4, n_estimators=150)\n",
    "xgb_grid = GridSearchCV(xgb, param_grid, cv=5, scoring='roc_auc', verbose=1, n_jobs=4)\n",
    "xgb_grid.fit(x, y)"
   ]
  },
  {
   "cell_type": "code",
   "execution_count": 240,
   "metadata": {},
   "outputs": [
    {
     "data": {
      "image/png": "[encoded data removed]",
      "text/plain": [
       "<Figure size 432x288 with 2 Axes>"
      ]
     },
     "metadata": {
      "needs_background": "light"
     },
     "output_type": "display_data"
    },
    {
     "name": "stdout",
     "output_type": "stream",
     "text": [
      "Accuracy = 0.908952380952381\n",
      "Precision = 0.891156462585034\n",
      "Recall = 0.672945205479452\n",
      "F1 Score = 0.766829268292683\n",
      "ROC AUC = 0.9478662588175284\n"
     ]
    },
    {
     "data": {
      "image/png": "[encoded data removed]",
      "text/plain": [
       "<Figure size 432x288 with 1 Axes>"
      ]
     },
     "metadata": {
      "needs_background": "light"
     },
     "output_type": "display_data"
    }
   ],
   "source": [
    "\n",
    "xgb_best = xgb_grid.best_estimator_\n",
    "disp_confusion_matrix(xgb_best, xtest, ytest)\n",
    "disp_roc_curve(xgb_best, xtest, ytest)"
   ]
  },
  {
   "cell_type": "code",
   "execution_count": 245,
   "metadata": {},
   "outputs": [
    {
     "data": {
      "text/html": [
       "<div>\n",
       "<style scoped>\n",
       "    .dataframe tbody tr th:only-of-type {\n",
       "        vertical-align: middle;\n",
       "    }\n",
       "\n",
       "    .dataframe tbody tr th {\n",
       "        vertical-align: top;\n",
       "    }\n",
       "\n",
       "    .dataframe thead th {\n",
       "        text-align: right;\n",
       "    }\n",
       "</style>\n",
       "<table border=\"1\" class=\"dataframe\">\n",
       "  <thead>\n",
       "    <tr style=\"text-align: right;\">\n",
       "      <th></th>\n",
       "      <th>session_id</th>\n",
       "      <th>gender</th>\n",
       "    </tr>\n",
       "  </thead>\n",
       "  <tbody>\n",
       "    <tr>\n",
       "      <th>10500</th>\n",
       "      <td>u12112</td>\n",
       "      <td>0.081252</td>\n",
       "    </tr>\n",
       "    <tr>\n",
       "      <th>10501</th>\n",
       "      <td>u19725</td>\n",
       "      <td>0.278719</td>\n",
       "    </tr>\n",
       "    <tr>\n",
       "      <th>10502</th>\n",
       "      <td>u11795</td>\n",
       "      <td>0.131750</td>\n",
       "    </tr>\n",
       "    <tr>\n",
       "      <th>10503</th>\n",
       "      <td>u22639</td>\n",
       "      <td>0.535807</td>\n",
       "    </tr>\n",
       "    <tr>\n",
       "      <th>10504</th>\n",
       "      <td>u18034</td>\n",
       "      <td>0.245540</td>\n",
       "    </tr>\n",
       "  </tbody>\n",
       "</table>\n",
       "</div>"
      ],
      "text/plain": [
       "      session_id    gender\n",
       "10500     u12112  0.081252\n",
       "10501     u19725  0.278719\n",
       "10502     u11795  0.131750\n",
       "10503     u22639  0.535807\n",
       "10504     u18034  0.245540"
      ]
     },
     "execution_count": 245,
     "metadata": {},
     "output_type": "execute_result"
    }
   ],
   "source": [
    "\n",
    "xgb_best.fit(x,y)\n",
    "test_prob = xgb_best.predict_proba(df_test)[:,1]\n",
    "df_xgbgs = pd.DataFrame({'session_id':test_ids,'gender':test_prob})\n",
    "df_xgbgs.head()"
   ]
  },
  {
   "cell_type": "code",
   "execution_count": 242,
   "metadata": {},
   "outputs": [],
   "source": [
    "df_xgbgs['gender'] = df_xgbgs['gender'].apply(lambda x : 'male' if x>0.5 else 'female')\n",
    "df_xgbgs.to_csv('submission-xgbgs.csv',index=False)"
   ]
  },
  {
   "cell_type": "code",
   "execution_count": 249,
   "metadata": {},
   "outputs": [],
   "source": [
    "df_rfxgb=df_rf\n",
    "df_rfxgb['gender']=(df_rf['gender']+df_xgbgs['gender'])/2"
   ]
  },
  {
   "cell_type": "code",
   "execution_count": 250,
   "metadata": {},
   "outputs": [],
   "source": [
    "df_rfxgb['gender'] = df_rfxgb['gender'].apply(lambda x : 'male' if x>0.5 else 'female')\n",
    "df_rfxgb.to_csv('submission-rfxgb.csv',index=False)"
   ]
  },
  {
   "cell_type": "markdown",
   "metadata": {},
   "source": [
    "LGB"
   ]
  },
  {
   "cell_type": "code",
   "execution_count": null,
   "metadata": {},
   "outputs": [],
   "source": [
    "from lightgbm import LGBMClassifier\n",
    "lgb = LGBMClassifier()\n",
    "lgb.fit(xtrain,ytrain)\n",
    "print('Training set score = {:.3f}'.format(lgb.score(xtrain,ytrain)))\n",
    "print('Test set score = {:.3f}'.format(lgb.score(xtest,ytest)))"
   ]
  },
  {
   "cell_type": "code",
   "execution_count": null,
   "metadata": {},
   "outputs": [],
   "source": [
    "disp_confusion_matrix(lgb, xtest, ytest)\n",
    "disp_roc_curve(lgb, xtest, ytest)"
   ]
  },
  {
   "cell_type": "code",
   "execution_count": null,
   "metadata": {},
   "outputs": [],
   "source": [
    "arr=[-1,10,20,30,50]\n",
    "cv_scores = []\n",
    "for a in arr:\n",
    "    model = LGBMClassifier(objective='binary', n_jobs=4, boosting_type='gbdt', n_estimators=100, max_depth=a)\n",
    "    cv_score = cross_val_score(model, x, y, cv=5, scoring='roc_auc')\n",
    "    print(a, ':', cv_score)\n",
    "    cv_scores.append(cv_score)\n",
    "    \n",
    "fig, ax = plt.subplots(figsize=(14,6))\n",
    "plt.boxplot(cv_scores)\n",
    "ax.set_xticklabels(arr)\n",
    "plt.xlabel('n')\n",
    "plt.ylabel('roc_auc')\n",
    "plt.show()"
   ]
  },
  {
   "cell_type": "code",
   "execution_count": null,
   "metadata": {},
   "outputs": [],
   "source": [
    "param_grid = {\n",
    "    'num_leaves':[40,60],\n",
    "    'max_depth':[-1,10],\n",
    "    'subsample':[0.8,0.9,1],\n",
    "    'colsample_bytree': [0.6,0.8,1],\n",
    "    'min_child_samples': [20,10,30],\n",
    "    'min_split_gain':[0,0.5,1]\n",
    "}\n",
    "lgb = LGBMClassifier(objective='binary', n_jobs=4, boosting_type='gbdt', learning_rate=0.01, n_estimators=100, silent=False)\n",
    "lgb_grid = GridSearchCV(lgb, param_grid, cv=5, scoring='roc_auc', verbose=1, n_jobs=4)\n",
    "lgb_grid.fit(x, y)"
   ]
  },
  {
   "cell_type": "code",
   "execution_count": null,
   "metadata": {},
   "outputs": [],
   "source": [
    "lgb_best = lgb_grid.best_estimator_\n",
    "disp_confusion_matrix(lgb_best, xtest, ytest)\n",
    "disp_roc_curve(lgb_best, xtest, ytest)"
   ]
  },
  {
   "cell_type": "code",
   "execution_count": null,
   "metadata": {},
   "outputs": [],
   "source": []
  }
 ],
 "metadata": {
  "kernelspec": {
   "display_name": "Python 3",
   "language": "python",
   "name": "python3"
  },
  "language_info": {
   "codemirror_mode": {
    "name": "ipython",
    "version": 3
   },
   "file_extension": ".py",
   "mimetype": "text/x-python",
   "name": "python",
   "nbconvert_exporter": "python",
   "pygments_lexer": "ipython3",
   "version": "3.6.9"
  }
 },
 "nbformat": 4,
 "nbformat_minor": 2
}
